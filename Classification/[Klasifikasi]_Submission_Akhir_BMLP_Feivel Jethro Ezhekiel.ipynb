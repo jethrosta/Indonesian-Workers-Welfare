{
  "cells": [
    {
      "cell_type": "markdown",
      "metadata": {
        "id": "fKADPWcFKlj3"
      },
      "source": [
        "# **1. Import Library**"
      ]
    },
    {
      "cell_type": "markdown",
      "metadata": {
        "id": "LgA3ERnVn84N"
      },
      "source": [
        "Pada tahap ini, Anda perlu mengimpor beberapa pustaka (library) Python yang dibutuhkan untuk analisis data dan pembangunan model machine learning."
      ]
    },
    {
      "cell_type": "code",
      "execution_count": 32,
      "metadata": {
        "id": "BlmvjLY9M4Yj"
      },
      "outputs": [],
      "source": [
        "import pandas as pd\n",
        "import numpy as np\n",
        "import seaborn as sns\n",
        "import matplotlib.pyplot as plt\n",
        "from sklearn.linear_model import LogisticRegression\n",
        "from sklearn.model_selection import train_test_split\n",
        "from sklearn.neighbors import KNeighborsClassifier\n",
        "from sklearn.tree import DecisionTreeClassifier\n",
        "from sklearn.ensemble import RandomForestClassifier\n",
        "from sklearn.metrics import confusion_matrix, accuracy_score, precision_score, recall_score, f1_score\n",
        "from sklearn.model_selection import GridSearchCV\n",
        "from sklearn.model_selection import learning_curve"
      ]
    },
    {
      "cell_type": "markdown",
      "metadata": {
        "id": "f3YIEnAFKrKL"
      },
      "source": [
        "# **2. Memuat Dataset dari Hasil Clustering**"
      ]
    },
    {
      "cell_type": "markdown",
      "metadata": {
        "id": "Ey3ItwTen_7E"
      },
      "source": [
        "Memuat dataset hasil clustering dari file CSV ke dalam variabel DataFrame."
      ]
    },
    {
      "cell_type": "code",
      "execution_count": 2,
      "metadata": {
        "id": "GHCGNTyrM5fS"
      },
      "outputs": [
        {
          "data": {
            "text/html": [
              "<div>\n",
              "<style scoped>\n",
              "    .dataframe tbody tr th:only-of-type {\n",
              "        vertical-align: middle;\n",
              "    }\n",
              "\n",
              "    .dataframe tbody tr th {\n",
              "        vertical-align: top;\n",
              "    }\n",
              "\n",
              "    .dataframe thead th {\n",
              "        text-align: right;\n",
              "    }\n",
              "</style>\n",
              "<table border=\"1\" class=\"dataframe\">\n",
              "  <thead>\n",
              "    <tr style=\"text-align: right;\">\n",
              "      <th></th>\n",
              "      <th>Upah Minimum Provinsi</th>\n",
              "      <th>Pengeluaran</th>\n",
              "      <th>Upah_Rata_rata</th>\n",
              "      <th>Cluster</th>\n",
              "    </tr>\n",
              "  </thead>\n",
              "  <tbody>\n",
              "    <tr>\n",
              "      <th>0</th>\n",
              "      <td>1900000.0</td>\n",
              "      <td>395136.0</td>\n",
              "      <td>11226.0</td>\n",
              "      <td>2</td>\n",
              "    </tr>\n",
              "    <tr>\n",
              "      <th>1</th>\n",
              "      <td>1900000.0</td>\n",
              "      <td>395136.0</td>\n",
              "      <td>11226.0</td>\n",
              "      <td>2</td>\n",
              "    </tr>\n",
              "    <tr>\n",
              "      <th>2</th>\n",
              "      <td>1900000.0</td>\n",
              "      <td>415354.0</td>\n",
              "      <td>11226.0</td>\n",
              "      <td>2</td>\n",
              "    </tr>\n",
              "    <tr>\n",
              "      <th>3</th>\n",
              "      <td>1900000.0</td>\n",
              "      <td>415354.0</td>\n",
              "      <td>11226.0</td>\n",
              "      <td>2</td>\n",
              "    </tr>\n",
              "    <tr>\n",
              "      <th>4</th>\n",
              "      <td>1900000.0</td>\n",
              "      <td>466355.0</td>\n",
              "      <td>11226.0</td>\n",
              "      <td>2</td>\n",
              "    </tr>\n",
              "  </tbody>\n",
              "</table>\n",
              "</div>"
            ],
            "text/plain": [
              "   Upah Minimum Provinsi  Pengeluaran  Upah_Rata_rata  Cluster\n",
              "0              1900000.0     395136.0         11226.0        2\n",
              "1              1900000.0     395136.0         11226.0        2\n",
              "2              1900000.0     415354.0         11226.0        2\n",
              "3              1900000.0     415354.0         11226.0        2\n",
              "4              1900000.0     466355.0         11226.0        2"
            ]
          },
          "execution_count": 2,
          "metadata": {},
          "output_type": "execute_result"
        }
      ],
      "source": [
        "df_main = pd.read_csv(\"Kesejahteraan Pekerja Indonesia(Clustered).csv\")\n",
        "df_main.head()"
      ]
    },
    {
      "cell_type": "markdown",
      "metadata": {
        "id": "KkPem5eWL2UP"
      },
      "source": [
        "# **3. Data Splitting**"
      ]
    },
    {
      "cell_type": "markdown",
      "metadata": {
        "id": "YYj1rl_JNI9Y"
      },
      "source": [
        "Tahap Data Splitting bertujuan untuk memisahkan dataset menjadi dua bagian: data latih (training set) dan data uji (test set)."
      ]
    },
    {
      "cell_type": "code",
      "execution_count": 22,
      "metadata": {
        "id": "OubAW-7ONKVj"
      },
      "outputs": [
        {
          "data": {
            "text/plain": [
              "((3718, 3), (930, 3), (3718,), (930,))"
            ]
          },
          "execution_count": 22,
          "metadata": {},
          "output_type": "execute_result"
        }
      ],
      "source": [
        "# Memisahkan fitur dan target\n",
        "X = df_main.drop(columns=[\"Cluster\"])\n",
        "y = df_main[\"Cluster\"]\n",
        "\n",
        "# Membagi data menjadi 80% training dan 20% testing\n",
        "X_train, X_test, y_train, y_test = train_test_split(X, y, test_size=0.2, random_state=42)\n",
        "\n",
        "# Menampilkan ukuran data hasil split\n",
        "X_train.shape, X_test.shape, y_train.shape, y_test.shape"
      ]
    },
    {
      "cell_type": "markdown",
      "metadata": {},
      "source": [
        "Data training memiliki 3718 sampel dan test set memiliki 930 sample"
      ]
    },
    {
      "cell_type": "markdown",
      "metadata": {
        "id": "IVPbB03CMhTT"
      },
      "source": [
        "# **4. Membangun Model Klasifikasi**\n"
      ]
    },
    {
      "cell_type": "markdown",
      "metadata": {
        "id": "Ned1pL9zMmBK"
      },
      "source": [
        "## **a. Membangun Model Klasifikasi**"
      ]
    },
    {
      "cell_type": "markdown",
      "metadata": {
        "id": "WAWzPOE4Nkti"
      },
      "source": [
        "Setelah memilih algoritma klasifikasi yang sesuai, langkah selanjutnya adalah melatih model menggunakan data latih.\n",
        "\n",
        "Berikut adalah rekomendasi tahapannya.\n",
        "1. Pilih algoritma klasifikasi yang sesuai, seperti Logistic Regression, Decision Tree, Random Forest, atau K-Nearest Neighbors (KNN).\n",
        "2. Latih model menggunakan data latih."
      ]
    },
    {
      "cell_type": "code",
      "execution_count": null,
      "metadata": {
        "id": "4JYxBe87NLDk"
      },
      "outputs": [],
      "source": [
        "# Inisialisasi model\n",
        "models = {\n",
        "    \"Logistic Regression\": LogisticRegression(max_iter=1000),\n",
        "    \"Decision Tree\": DecisionTreeClassifier(),\n",
        "    \"Random Forest\": RandomForestClassifier(),\n",
        "    \"K-Nearest Neighbors\": KNeighborsClassifier()\n",
        "}\n",
        "\n",
        "# Tahap 1: Training (Melatih setiap model)\n",
        "trained_models = {}\n",
        "for name, model in models.items():\n",
        "    model.fit(X_train, y_train)\n",
        "    trained_models[name] = model  # Simpan model yang sudah dilatih"
      ]
    },
    {
      "cell_type": "markdown",
      "metadata": {
        "id": "seYoHNY3XU1y"
      },
      "source": [
        "Proses training tergolong cepat untuk keempat model tersebut Sehingga masih belum dapat bisa menentukan model mana yang lebih baik digunakan untuk digunakan. Akan lebih baik apabila kita mengevaluasi hasil dari model tersebut pada tahap selanjutnya."
      ]
    },
    {
      "cell_type": "markdown",
      "metadata": {
        "id": "ergzChZFEL-O"
      },
      "source": [
        "## **b. Evaluasi Model Klasifikasi**"
      ]
    },
    {
      "cell_type": "markdown",
      "metadata": {
        "id": "zOm68u-7NpLT"
      },
      "source": [
        "Berikut adalah **rekomendasi** tahapannya.\n",
        "1. Lakukan prediksi menggunakan data uji.\n",
        "2. Hitung metrik evaluasi seperti Accuracy dan F1-Score (Opsional: Precision dan Recall).\n",
        "3. Buat confusion matrix untuk melihat detail prediksi benar dan salah."
      ]
    },
    {
      "cell_type": "code",
      "execution_count": 15,
      "metadata": {
        "id": "tMq4QAssNLip"
      },
      "outputs": [
        {
          "data": {
            "text/plain": [
              "{'Logistic Regression': {'Accuracy': 0.9795698924731183,\n",
              "  'F1-Score': 0.9795748302902934,\n",
              "  'Precision': 0.9797064955649519,\n",
              "  'Recall': 0.9795698924731183},\n",
              " 'Decision Tree': {'Accuracy': 0.9935483870967742,\n",
              "  'F1-Score': 0.9935490714711617,\n",
              "  'Precision': 0.9935957818655767,\n",
              "  'Recall': 0.9935483870967742},\n",
              " 'Random Forest': {'Accuracy': 0.989247311827957,\n",
              "  'F1-Score': 0.989242894621369,\n",
              "  'Precision': 0.9892793001466829,\n",
              "  'Recall': 0.989247311827957},\n",
              " 'K-Nearest Neighbors': {'Accuracy': 0.9086021505376344,\n",
              "  'F1-Score': 0.9080570723331374,\n",
              "  'Precision': 0.9089212525087728,\n",
              "  'Recall': 0.9086021505376344}}"
            ]
          },
          "execution_count": 15,
          "metadata": {},
          "output_type": "execute_result"
        }
      ],
      "source": [
        "# Tahap 2: Evaluation (Evaluasi setiap model)\n",
        "results = {}\n",
        "for name, model in trained_models.items():\n",
        "    y_pred = model.predict(X_test)  # Prediksi dengan model yang telah dilatih\n",
        "    \n",
        "    # Menghitung metrik evaluasi\n",
        "    accuracy = accuracy_score(y_test, y_pred)\n",
        "    f1 = f1_score(y_test, y_pred, average=\"weighted\")  # Weighted karena data bisa tidak seimbang\n",
        "    precision = precision_score(y_test, y_pred, average=\"weighted\")\n",
        "    recall = recall_score(y_test, y_pred, average=\"weighted\")\n",
        "    \n",
        "    # Simpan hasil evaluasi\n",
        "    results[name] = {\n",
        "        \"Accuracy\": accuracy,\n",
        "        \"F1-Score\": f1,\n",
        "        \"Precision\": precision,\n",
        "        \"Recall\": recall\n",
        "    }\n",
        "\n",
        "# Menampilkan hasil evaluasi\n",
        "results"
      ]
    },
    {
      "cell_type": "markdown",
      "metadata": {
        "id": "H4_9OwrsXZlz"
      },
      "source": [
        "Hasil model paling bagus ada pada Decision Tree dari semua model yang tersedia, maka kedepannya kita akan menggunakan Decision Tree karena secara evaluasi matrix Accuracy hingga Recall memberikan hasil yang tinggi"
      ]
    },
    {
      "cell_type": "code",
      "execution_count": 24,
      "metadata": {},
      "outputs": [
        {
          "data": {
            "image/png": "[encoded data removed]",
            "text/plain": [
              "<Figure size 600x400 with 2 Axes>"
            ]
          },
          "metadata": {},
          "output_type": "display_data"
        }
      ],
      "source": [
        "# Prediksi menggunakan model terbaik (Decision Tree)\n",
        "best_model = models[\"Decision Tree\"]\n",
        "y_pred_dt = best_model.predict(X_test)\n",
        "\n",
        "# Membuat confusion matrix\n",
        "cm = confusion_matrix(y_test, y_pred_dt)\n",
        "\n",
        "# Visualisasi confusion matrix\n",
        "plt.figure(figsize=(6, 4))\n",
        "sns.heatmap(cm, annot=True, fmt=\"d\", cmap=\"Blues\", xticklabels=best_model.classes_, yticklabels=best_model.classes_)\n",
        "plt.xlabel(\"Predicted Label\")\n",
        "plt.ylabel(\"True Label\")\n",
        "plt.title(\"Confusion Matrix - Decision Tree\")\n",
        "plt.show()"
      ]
    },
    {
      "cell_type": "markdown",
      "metadata": {
        "id": "ph9yIYDXEPuB"
      },
      "source": [
        "## **c. Tuning Model Klasifikasi (Optional)**"
      ]
    },
    {
      "cell_type": "markdown",
      "metadata": {
        "id": "-Bikx3LINv5e"
      },
      "source": [
        "Gunakan GridSearchCV, RandomizedSearchCV, atau metode lainnya untuk mencari kombinasi hyperparameter terbaik"
      ]
    },
    {
      "cell_type": "code",
      "execution_count": 26,
      "metadata": {
        "id": "winbFzb8NL95"
      },
      "outputs": [
        {
          "name": "stdout",
          "output_type": "stream",
          "text": [
            "{'max_depth': 20, 'min_samples_leaf': 1, 'min_samples_split': 2}\n"
          ]
        }
      ],
      "source": [
        "# Hyperparameter tuning untuk Decision Tree\n",
        "param_grid = {\n",
        "    \"max_depth\": [None, 10, 20, 30],\n",
        "    \"min_samples_split\": [2, 5, 10],\n",
        "    \"min_samples_leaf\": [1, 2, 4]\n",
        "}\n",
        "\n",
        "# Menggunakan GridSearch untuk mencari hyperparameter terbaik\n",
        "grid_search = GridSearchCV(DecisionTreeClassifier(), param_grid, cv=5, scoring=\"accuracy\", n_jobs=-1)\n",
        "grid_search.fit(X_train, y_train)\n",
        "\n",
        "# Model terbaik setelah tuning\n",
        "best_dt = grid_search.best_estimator_\n",
        "best_params = grid_search.best_params_\n",
        "print(best_params)"
      ]
    },
    {
      "cell_type": "markdown",
      "metadata": {},
      "source": [
        "Diketahui ternyata hyperparameter paling baik ada pada `max_depth`: 20, `min_samples_leaf`: 1, `min_samples_split`: 2"
      ]
    },
    {
      "cell_type": "markdown",
      "metadata": {
        "id": "hE7pqlEPEYzI"
      },
      "source": [
        "## **d. Evaluasi Model Klasifikasi setelah Tuning (Optional)**"
      ]
    },
    {
      "cell_type": "markdown",
      "metadata": {
        "id": "feaPESoeN0zz"
      },
      "source": [
        "Berikut adalah rekomendasi tahapannya.\n",
        "1. Gunakan model dengan hyperparameter terbaik.\n",
        "2. Hitung ulang metrik evaluasi untuk melihat apakah ada peningkatan performa."
      ]
    },
    {
      "cell_type": "code",
      "execution_count": 27,
      "metadata": {
        "id": "HTXZRvEeNMb1"
      },
      "outputs": [
        {
          "data": {
            "text/plain": [
              "({'max_depth': 20, 'min_samples_leaf': 1, 'min_samples_split': 2},\n",
              " {'Accuracy': 0.9956989247311828,\n",
              "  'F1-Score': 0.9956971465862954,\n",
              "  'Precisioin': 0.9957346595519445,\n",
              "  'Recall': 0.9956989247311828})"
            ]
          },
          "execution_count": 27,
          "metadata": {},
          "output_type": "execute_result"
        }
      ],
      "source": [
        "# Evaluasi ulang model setelah tuning\n",
        "y_pred_best = best_dt.predict(X_test)\n",
        "accuracy_best = accuracy_score(y_test, y_pred_best)\n",
        "f1_best = f1_score(y_test, y_pred_best, average=\"weighted\")\n",
        "precision = precision_score(y_test, y_pred_best, average=\"weighted\")\n",
        "recall = recall_score(y_test, y_pred_best, average=\"weighted\")\n",
        "\n",
        "# Menampilkan hasil tuning dan evaluasi ulang\n",
        "best_params, {\"Accuracy\": accuracy_best, \"F1-Score\": f1_best, \"Precisioin\": precision, \"Recall\":recall}"
      ]
    },
    {
      "cell_type": "code",
      "execution_count": 30,
      "metadata": {},
      "outputs": [
        {
          "name": "stdout",
          "output_type": "stream",
          "text": [
            "📌 Classification Report for best_dt\n",
            "\n",
            "              precision    recall  f1-score   support\n",
            "\n",
            "           0       0.99      1.00      1.00       346\n",
            "           1       0.99      1.00      0.99       182\n",
            "           2       1.00      0.99      0.99       402\n",
            "\n",
            "    accuracy                           1.00       930\n",
            "   macro avg       0.99      1.00      1.00       930\n",
            "weighted avg       1.00      1.00      1.00       930\n",
            "\n"
          ]
        },
        {
          "data": {
            "image/png": "[encoded data removed]",
            "text/plain": [
              "<Figure size 600x400 with 2 Axes>"
            ]
          },
          "metadata": {},
          "output_type": "display_data"
        }
      ],
      "source": [
        "from sklearn.metrics import classification_report\n",
        "# Prediksi menggunakan model best_dt\n",
        "y_pred = best_dt.predict(X_test)\n",
        "\n",
        "# Classification Report\n",
        "print(\"📌 Classification Report for best_dt\\n\")\n",
        "print(classification_report(y_test, y_pred))\n",
        "\n",
        "# Confusion Matrix\n",
        "cm = confusion_matrix(y_test, y_pred)\n",
        "plt.figure(figsize=(6, 4))\n",
        "sns.heatmap(cm, annot=True, fmt=\"d\", cmap=\"Blues\", xticklabels=set(y_test), yticklabels=set(y_test))\n",
        "plt.xlabel(\"Predicted Label\")\n",
        "plt.ylabel(\"True Label\")\n",
        "plt.title(\"Confusion Matrix for best_dt\")\n",
        "plt.show()"
      ]
    },
    {
      "cell_type": "code",
      "execution_count": null,
      "metadata": {},
      "outputs": [
        {
          "name": "stdout",
          "output_type": "stream",
          "text": [
            "📌 Overfitting vs Underfitting Analysis for best_dt\n",
            "✅ Train Accuracy: 1.0000\n",
            "✅ Test Accuracy: 0.9957\n",
            "✅ Model memiliki generalisasi yang baik.\n"
          ]
        }
      ],
      "source": [
        "train_acc = best_dt.score(X_train, y_train)\n",
        "test_acc = best_dt.score(X_test, y_test)\n",
        "\n",
        "print(\"📌 Overfitting vs Underfitting Analysis for best_dt\")\n",
        "print(f\"✅ Train Accuracy: {train_acc:.4f}\")\n",
        "print(f\"✅ Test Accuracy: {test_acc:.4f}\")\n",
        "\n",
        "if train_acc > test_acc + 0.10:  # Jika akurasi train jauh lebih tinggi\n",
        "    print(\"Model mengalami OVERFITTING! Coba lakukan pruning atau regularisasi.\")\n",
        "elif train_acc < 0.70 and test_acc < 0.70:  # Jika akurasi sangat rendah\n",
        "    print(\"Model mengalami UNDERFITTING! Coba gunakan model lebih kompleks atau tambah fitur.\")\n",
        "else:\n",
        "    print(\"✅ Model memiliki generalisasi yang baik.\")"
      ]
    },
    {
      "cell_type": "code",
      "execution_count": 33,
      "metadata": {},
      "outputs": [
        {
          "data": {
            "image/png": "[encoded data removed]",
            "text/plain": [
              "<Figure size 800x500 with 1 Axes>"
            ]
          },
          "metadata": {},
          "output_type": "display_data"
        }
      ],
      "source": [
        "def plot_learning_curve(model, X, y, title=\"Learning Curve\"):\n",
        "    train_sizes, train_scores, test_scores = learning_curve(\n",
        "        model, X, y, cv=5, scoring=\"accuracy\", train_sizes=np.linspace(0.1, 1.0, 10)\n",
        "    )\n",
        "\n",
        "    train_mean = np.mean(train_scores, axis=1)\n",
        "    test_mean = np.mean(test_scores, axis=1)\n",
        "\n",
        "    plt.figure(figsize=(8, 5))\n",
        "    plt.plot(train_sizes, train_mean, label=\"Train Score\", marker=\"o\")\n",
        "    plt.plot(train_sizes, test_mean, label=\"Test Score\", marker=\"s\")\n",
        "    \n",
        "    plt.xlabel(\"Training Size\")\n",
        "    plt.ylabel(\"Accuracy\")\n",
        "    plt.title(title)\n",
        "    plt.legend()\n",
        "    plt.show()\n",
        "\n",
        "# Plot Learning Curve untuk best_dt\n",
        "plot_learning_curve(best_dt, X_train, y_train, \"Learning Curve - best_dt\")"
      ]
    },
    {
      "cell_type": "markdown",
      "metadata": {},
      "source": [
        "Ternyata hasil model terlihat overfitting. Kenyataan bahwa model memiliki output yang sempurna pada data training menyebabkan model terlalu menyesuaikan dengan data training. Mari kita coba parameter lain yang lebih tergeneralisasi"
      ]
    },
    {
      "cell_type": "code",
      "execution_count": 36,
      "metadata": {},
      "outputs": [
        {
          "name": "stdout",
          "output_type": "stream",
          "text": [
            "Best Parameters: {'max_depth': 10, 'min_samples_leaf': 1, 'min_samples_split': 2}\n"
          ]
        }
      ],
      "source": [
        "from sklearn.model_selection import GridSearchCV\n",
        "\n",
        "param_grid = {\n",
        "    \"max_depth\": [3, 5, 10, None],\n",
        "    \"min_samples_split\": [2, 5, 10],\n",
        "    \"min_samples_leaf\": [1, 5, 10]\n",
        "}\n",
        "\n",
        "grid_search = GridSearchCV(DecisionTreeClassifier(), param_grid, cv=5, scoring=\"accuracy\")\n",
        "new_estimators = grid_search.fit(X_train, y_train)\n",
        "\n",
        "print(\"Best Parameters:\", new_estimators.best_params_)"
      ]
    },
    {
      "cell_type": "code",
      "execution_count": 37,
      "metadata": {},
      "outputs": [
        {
          "data": {
            "image/png": "[encoded data removed]",
            "text/plain": [
              "<Figure size 800x500 with 1 Axes>"
            ]
          },
          "metadata": {},
          "output_type": "display_data"
        }
      ],
      "source": [
        "plot_learning_curve(new_estimators, X_train, y_train, \"Learning Curve - best_dt\")"
      ]
    },
    {
      "cell_type": "markdown",
      "metadata": {
        "id": "ZRsOdm4uEgAW"
      },
      "source": [
        "## **e. Analisis Hasil Evaluasi Model Klasifikasi**"
      ]
    },
    {
      "cell_type": "markdown",
      "metadata": {
        "id": "Hm3BhSi6N4_l"
      },
      "source": [
        "Berikut adalah **rekomendasi** tahapannya.\n",
        "1. Sebelum tuning, model dengan algoritma decision tree menghasilkan <br>\n",
        "`Accuracy`: 0.9935483870967742, <br>\n",
        "`F1-Score`: 0.9935490714711617, <br>\n",
        "`Precision`: 0.9935957818655767, dan <br>\n",
        "`Recall`: 0.9935483870967742. <br>\n",
        "Akan tetapi, setelah melewati proses tuning dan mendapati hyperparameter terbaik dengan :<br>\n",
        "`max_depth`: 20, `min_samples_leaf`: 1, `min_samples_split`: 2, <br>\n",
        "maka hasilnya menjadi: <br>\n",
        "`Accuracy`: 0.9956989247311828, <br>\n",
        "`F1-Score`: 0.9956971465862954, <br>\n",
        "`Precisioin`: 0.9957346595519445,<br>\n",
        "`Recall`: 0.9956989247311828.\n",
        "2. Identifikasi kelemahan model, seperti:\n",
        "  - Ternyata parameter model awal mengalami overfitting, sehingga ketika diuji pada data training menghasilkan prediksi nilai yang selalu 1\n",
        "  - Ketika dilakukan tuning lagi, ternyata model sudah membaik, cenderung general, meskipun  masih memiliki gapantara Learning Curve Train Score dan Test Score, tetapi setidaknya sudah lebih sempit dibandingkan model sebelumnya\n",
        "3. Rekomendasi untuk tindakan lanjutan adalah coba mencari parameter lain dengan metode RandomizeSearchCV atau mengganti dengan Algoritma train Random Forest."
      ]
    },
    {
      "cell_type": "markdown",
      "metadata": {},
      "source": []
    }
  ],
  "metadata": {
    "colab": {
      "provenance": []
    },
    "kernelspec": {
      "display_name": "Python 3 (ipykernel)",
      "language": "python",
      "name": "python3"
    },
    "language_info": {
      "codemirror_mode": {
        "name": "ipython",
        "version": 3
      },
      "file_extension": ".py",
      "mimetype": "text/x-python",
      "name": "python",
      "nbconvert_exporter": "python",
      "pygments_lexer": "ipython3",
      "version": "3.9.21"
    }
  },
  "nbformat": 4,
  "nbformat_minor": 0
}
